{
 "cells": [
  {
   "cell_type": "code",
   "execution_count": null,
   "metadata": {},
   "outputs": [],
   "source": [
    "import os\n",
    "os.chdir(\"..\")\n",
    "\n",
    "import midi_np_translation.midi2input as midi2input\n",
    "import numpy as np"
   ]
  },
  {
   "cell_type": "code",
   "execution_count": null,
   "metadata": {},
   "outputs": [],
   "source": [
    "input_output_directories = [\n",
    "    (\"input_midi/Jazz_ML_MIDI/Jazz Midi/\", \"preprocessed_dataset/Jazz_ML_MIDI/\"), \n",
    "    (\"input_midi/jazz_standards/\", \"preprocessed_dataset/jazz_standards/\")\n",
    "]\n",
    "\n",
    "if not os.path.exists(\"preprocessed_dataset/Jazz_ML_MIDI/\"):\n",
    "    os.mkdir(\"preprocessed_dataset/Jazz_ML_MIDI/\")\n",
    "if not os.path.exists(\"preprocessed_dataset/jazz_standards/\"):\n",
    "    os.mkdir(\"preprocessed_dataset/jazz_standards/\")"
   ]
  },
  {
   "cell_type": "markdown",
   "metadata": {},
   "source": [
    "### run in sequence"
   ]
  },
  {
   "cell_type": "code",
   "execution_count": null,
   "metadata": {},
   "outputs": [],
   "source": [
    "def run_in_sequence():\n",
    "    for input_midi_dir, output_np_dir in input_output_directories:\n",
    "        for midi_file_name in os.listdir(input_midi_dir):\n",
    "        # print(midi_file_name)\n",
    "            if not midi_file_name.lower().endswith(\".mid\"):\n",
    "                continue\n",
    "            try:\n",
    "                data_rows, bass_notes = midi2input.midi_to_input(input_midi_dir + midi_file_name)\n",
    "            except AssertionError as e:\n",
    "                print(f\"'{midi_file_name}' AssertionError: \", end=\"\")\n",
    "                print(e)\n",
    "            except Exception as e:\n",
    "                print(f\"'{midi_file_name}' Error: \", end=\"\")\n",
    "                print(e)\n",
    "            else:\n",
    "                np.save(output_np_dir + midi_file_name + \".npy\", data_rows)\n",
    "                np.save(output_np_dir + midi_file_name + \".ans.npy\", bass_notes)\n",
    "\n",
    "# run_in_sequence()"
   ]
  },
  {
   "cell_type": "markdown",
   "metadata": {},
   "source": [
    "### run in parallel"
   ]
  },
  {
   "cell_type": "code",
   "execution_count": null,
   "metadata": {},
   "outputs": [],
   "source": [
    "def process_a_single_midi_file(args):\n",
    "    input_midi_dir, output_np_dir, midi_file_name = args\n",
    "    if not midi_file_name.lower().endswith(\".mid\"):\n",
    "        return\n",
    "    try:\n",
    "        data_rows, bass_notes = midi2input.midi_to_input(input_midi_dir + midi_file_name)\n",
    "    except AssertionError as e:\n",
    "        print(f\"AssertionError '{midi_file_name}': \", end=\"\")\n",
    "        print(e)\n",
    "    except Exception as e:\n",
    "        print(f\"Error '{midi_file_name}': \", end=\"\")\n",
    "        print(e)\n",
    "    else:\n",
    "        np.save(output_np_dir + midi_file_name + \".npy\", data_rows)\n",
    "        np.save(output_np_dir + midi_file_name + \".ans.npy\", bass_notes)\n",
    "        print(len(os.listdir(output_np_dir)))"
   ]
  },
  {
   "cell_type": "code",
   "execution_count": null,
   "metadata": {},
   "outputs": [],
   "source": [
    "import multiprocess\n",
    "\n",
    "def run_in_parallel(input_output_directories):\n",
    "    all_args = []\n",
    "    for input_midi_dir, output_np_dir in input_output_directories:\n",
    "        for midi_file_name in os.listdir(input_midi_dir):\n",
    "            all_args.append((input_midi_dir, output_np_dir, midi_file_name))\n",
    "\n",
    "    pool = multiprocess.Pool(3)\n",
    "    _ = pool.map(process_a_single_midi_file, all_args)\n",
    "\n",
    "run_in_parallel(input_output_directories = [\n",
    "    (\"input_midi/Jazz_ML_MIDI/Jazz Midi/\", \"preprocessed_dataset/Jazz_ML_MIDI/\"), \n",
    "    (\"input_midi/jazz_standards/\", \"preprocessed_dataset/jazz_standards/\")\n",
    "])"
   ]
  },
  {
   "cell_type": "code",
   "execution_count": null,
   "metadata": {},
   "outputs": [],
   "source": [
    "run_in_parallel(input_output_directories = [\n",
    "    (\"input_midi/Jazz_ML_MIDI/Jazz Midi/\", \"preprocessed_dataset/Jazz_ML_MIDI/\"), \n",
    "])"
   ]
  },
  {
   "cell_type": "code",
   "execution_count": null,
   "metadata": {},
   "outputs": [],
   "source": [
    "run_in_parallel(input_output_directories = [\n",
    "    (\"input_midi/irealpro_transposed/\", \"preprocessed_dataset/irealpro_midi/\"), \n",
    "])"
   ]
  }
 ],
 "metadata": {
  "kernelspec": {
   "display_name": "Python 3.10.8 64-bit",
   "language": "python",
   "name": "python3"
  },
  "language_info": {
   "codemirror_mode": {
    "name": "ipython",
    "version": 3
   },
   "file_extension": ".py",
   "mimetype": "text/x-python",
   "name": "python",
   "nbconvert_exporter": "python",
   "pygments_lexer": "ipython3",
   "version": "3.10.8"
  },
  "orig_nbformat": 4,
  "vscode": {
   "interpreter": {
    "hash": "aee8b7b246df8f9039afb4144a1f6fd8d2ca17a180786b69acc140d282b71a49"
   }
  }
 },
 "nbformat": 4,
 "nbformat_minor": 2
}
