{
 "cells": [
  {
   "cell_type": "code",
   "execution_count": 1,
   "metadata": {},
   "outputs": [],
   "source": [
    "import os\n",
    "os.chdir(\"..\")\n",
    "\n",
    "# import midi_np_translation.midi2input as midi2input\n",
    "import midi_np_translation.midi2input_v2 as midi2input\n",
    "import numpy as np\n",
    "import tqdm"
   ]
  },
  {
   "cell_type": "code",
   "execution_count": 4,
   "metadata": {},
   "outputs": [],
   "source": [
    "input_output_directories = [\n",
    "    (\"input_midi/Jazz_ML_MIDI/Jazz Midi/\", \"preprocessed_dataset/Jazz_ML_MIDI/\"), \n",
    "    (\"input_midi/jazz_standards/\", \"preprocessed_dataset/jazz_standards/\")\n",
    "]\n",
    "\n",
    "# if not os.path.exists(\"preprocessed_dataset/Jazz_ML_MIDI/\"):\n",
    "#     os.mkdir(\"preprocessed_dataset/Jazz_ML_MIDI/\")\n",
    "# if not os.path.exists(\"preprocessed_dataset/jazz_standards/\"):\n",
    "#     os.mkdir(\"preprocessed_dataset/jazz_standards/\")"
   ]
  },
  {
   "cell_type": "markdown",
   "metadata": {},
   "source": [
    "### run in sequence"
   ]
  },
  {
   "cell_type": "code",
   "execution_count": 3,
   "metadata": {},
   "outputs": [],
   "source": [
    "def run_in_sequence():\n",
    "    for input_midi_dir, output_np_dir in input_output_directories:\n",
    "        for midi_file_name in os.listdir(input_midi_dir):\n",
    "        # print(midi_file_name)\n",
    "            if not midi_file_name.lower().endswith(\".mid\"):\n",
    "                continue\n",
    "            try:\n",
    "                data_rows, bass_notes = midi2input.midi_to_input(input_midi_dir + midi_file_name)\n",
    "            except AssertionError as e:\n",
    "                print(f\"'{midi_file_name}' AssertionError: \", end=\"\")\n",
    "                print(e)\n",
    "            except Exception as e:\n",
    "                print(f\"'{midi_file_name}' Error: \", end=\"\")\n",
    "                print(e)\n",
    "            else:\n",
    "                np.save(output_np_dir + midi_file_name + \".npy\", data_rows)\n",
    "                np.save(output_np_dir + midi_file_name + \".ans.npy\", bass_notes)\n",
    "\n",
    "# run_in_sequence()"
   ]
  },
  {
   "cell_type": "markdown",
   "metadata": {},
   "source": [
    "### run in parallel"
   ]
  },
  {
   "cell_type": "code",
   "execution_count": 5,
   "metadata": {},
   "outputs": [],
   "source": [
    "def process_a_single_midi_file(args):\n",
    "    input_midi_dir, output_np_dir, midi_file_name = args\n",
    "    if not midi_file_name.lower().endswith(\".mid\"):\n",
    "        return\n",
    "    try:\n",
    "        data_rows, bass_notes = midi2input.midi_to_input(input_midi_dir + midi_file_name)\n",
    "    except AssertionError as e:\n",
    "        print(f\"AssertionError '{midi_file_name}': \", end=\"\")\n",
    "        print(e)\n",
    "    except Exception as e:\n",
    "        print(f\"Error '{midi_file_name}': \", end=\"\")\n",
    "        print(e)\n",
    "    else:\n",
    "        np.save(output_np_dir + midi_file_name + \".npy\", data_rows)\n",
    "        np.save(output_np_dir + midi_file_name + \".ans.npy\", bass_notes)\n",
    "        print(len(os.listdir(output_np_dir)))"
   ]
  },
  {
   "cell_type": "code",
   "execution_count": 6,
   "metadata": {},
   "outputs": [],
   "source": [
    "import multiprocess\n",
    "\n",
    "def run_in_parallel(input_output_directories):\n",
    "    all_args = []\n",
    "    for input_midi_dir, output_np_dir in input_output_directories:\n",
    "        for midi_file_name in sorted(os.listdir(input_midi_dir)):\n",
    "            all_args.append((input_midi_dir, output_np_dir, midi_file_name))\n",
    "\n",
    "    pool = multiprocess.Pool(3)\n",
    "    _ = pool.map(process_a_single_midi_file, all_args)"
   ]
  },
  {
   "cell_type": "code",
   "execution_count": 7,
   "metadata": {},
   "outputs": [
    {
     "ename": "KeyboardInterrupt",
     "evalue": "",
     "output_type": "error",
     "traceback": [
      "\u001b[0;31m---------------------------------------------------------------------------\u001b[0m",
      "\u001b[0;31mKeyboardInterrupt\u001b[0m                         Traceback (most recent call last)",
      "\u001b[1;32m/Users/tom/Desktop/coding/ML_Final/ML-Final-Project/data_preprocess/preprocess_midi_files.ipynb Cell 8\u001b[0m in \u001b[0;36m<cell line: 5>\u001b[0;34m()\u001b[0m\n\u001b[1;32m      <a href='vscode-notebook-cell:/Users/tom/Desktop/coding/ML_Final/ML-Final-Project/data_preprocess/preprocess_midi_files.ipynb#X11sZmlsZQ%3D%3D?line=0'>1</a>\u001b[0m \u001b[39m# input_output_directories = [(\"input_midi/Jazz_ML_MIDI/Jazz Midi/\", \"preprocessed_dataset/Jazz_ML_MIDI/\"), \u001b[39;00m\n\u001b[1;32m      <a href='vscode-notebook-cell:/Users/tom/Desktop/coding/ML_Final/ML-Final-Project/data_preprocess/preprocess_midi_files.ipynb#X11sZmlsZQ%3D%3D?line=1'>2</a>\u001b[0m \u001b[39m#                             (\"input_midi/jazz_standards/\", \"preprocessed_dataset/jazz_standards/\")]\u001b[39;00m\n\u001b[1;32m      <a href='vscode-notebook-cell:/Users/tom/Desktop/coding/ML_Final/ML-Final-Project/data_preprocess/preprocess_midi_files.ipynb#X11sZmlsZQ%3D%3D?line=2'>3</a>\u001b[0m \u001b[39m# input_output_directories = [(\"input_midi/irealpro_transposed/\", \"preprocessed_dataset/irealpro_dataset_v2/\")]\u001b[39;00m\n\u001b[1;32m      <a href='vscode-notebook-cell:/Users/tom/Desktop/coding/ML_Final/ML-Final-Project/data_preprocess/preprocess_midi_files.ipynb#X11sZmlsZQ%3D%3D?line=3'>4</a>\u001b[0m input_output_directories \u001b[39m=\u001b[39m [(\u001b[39m\"\u001b[39m\u001b[39minput_midi/transpose_augmentation/\u001b[39m\u001b[39m\"\u001b[39m, \u001b[39m\"\u001b[39m\u001b[39mpreprocessed_dataset/augmentation_v2/\u001b[39m\u001b[39m\"\u001b[39m)]\n\u001b[0;32m----> <a href='vscode-notebook-cell:/Users/tom/Desktop/coding/ML_Final/ML-Final-Project/data_preprocess/preprocess_midi_files.ipynb#X11sZmlsZQ%3D%3D?line=4'>5</a>\u001b[0m run_in_parallel(input_output_directories)\n",
      "\u001b[1;32m/Users/tom/Desktop/coding/ML_Final/ML-Final-Project/data_preprocess/preprocess_midi_files.ipynb Cell 8\u001b[0m in \u001b[0;36mrun_in_parallel\u001b[0;34m(input_output_directories)\u001b[0m\n\u001b[1;32m      <a href='vscode-notebook-cell:/Users/tom/Desktop/coding/ML_Final/ML-Final-Project/data_preprocess/preprocess_midi_files.ipynb#X11sZmlsZQ%3D%3D?line=6'>7</a>\u001b[0m         all_args\u001b[39m.\u001b[39mappend((input_midi_dir, output_np_dir, midi_file_name))\n\u001b[1;32m      <a href='vscode-notebook-cell:/Users/tom/Desktop/coding/ML_Final/ML-Final-Project/data_preprocess/preprocess_midi_files.ipynb#X11sZmlsZQ%3D%3D?line=8'>9</a>\u001b[0m pool \u001b[39m=\u001b[39m multiprocess\u001b[39m.\u001b[39mPool(\u001b[39m3\u001b[39m)\n\u001b[0;32m---> <a href='vscode-notebook-cell:/Users/tom/Desktop/coding/ML_Final/ML-Final-Project/data_preprocess/preprocess_midi_files.ipynb#X11sZmlsZQ%3D%3D?line=9'>10</a>\u001b[0m _ \u001b[39m=\u001b[39m pool\u001b[39m.\u001b[39;49mmap(process_a_single_midi_file, all_args)\n",
      "File \u001b[0;32m/usr/local/lib/python3.10/site-packages/multiprocess/pool.py:367\u001b[0m, in \u001b[0;36mPool.map\u001b[0;34m(self, func, iterable, chunksize)\u001b[0m\n\u001b[1;32m    362\u001b[0m \u001b[39mdef\u001b[39;00m \u001b[39mmap\u001b[39m(\u001b[39mself\u001b[39m, func, iterable, chunksize\u001b[39m=\u001b[39m\u001b[39mNone\u001b[39;00m):\n\u001b[1;32m    363\u001b[0m     \u001b[39m'''\u001b[39;00m\n\u001b[1;32m    364\u001b[0m \u001b[39m    Apply `func` to each element in `iterable`, collecting the results\u001b[39;00m\n\u001b[1;32m    365\u001b[0m \u001b[39m    in a list that is returned.\u001b[39;00m\n\u001b[1;32m    366\u001b[0m \u001b[39m    '''\u001b[39;00m\n\u001b[0;32m--> 367\u001b[0m     \u001b[39mreturn\u001b[39;00m \u001b[39mself\u001b[39;49m\u001b[39m.\u001b[39;49m_map_async(func, iterable, mapstar, chunksize)\u001b[39m.\u001b[39;49mget()\n",
      "File \u001b[0;32m/usr/local/lib/python3.10/site-packages/multiprocess/pool.py:768\u001b[0m, in \u001b[0;36mApplyResult.get\u001b[0;34m(self, timeout)\u001b[0m\n\u001b[1;32m    767\u001b[0m \u001b[39mdef\u001b[39;00m \u001b[39mget\u001b[39m(\u001b[39mself\u001b[39m, timeout\u001b[39m=\u001b[39m\u001b[39mNone\u001b[39;00m):\n\u001b[0;32m--> 768\u001b[0m     \u001b[39mself\u001b[39;49m\u001b[39m.\u001b[39;49mwait(timeout)\n\u001b[1;32m    769\u001b[0m     \u001b[39mif\u001b[39;00m \u001b[39mnot\u001b[39;00m \u001b[39mself\u001b[39m\u001b[39m.\u001b[39mready():\n\u001b[1;32m    770\u001b[0m         \u001b[39mraise\u001b[39;00m \u001b[39mTimeoutError\u001b[39;00m\n",
      "File \u001b[0;32m/usr/local/lib/python3.10/site-packages/multiprocess/pool.py:765\u001b[0m, in \u001b[0;36mApplyResult.wait\u001b[0;34m(self, timeout)\u001b[0m\n\u001b[1;32m    764\u001b[0m \u001b[39mdef\u001b[39;00m \u001b[39mwait\u001b[39m(\u001b[39mself\u001b[39m, timeout\u001b[39m=\u001b[39m\u001b[39mNone\u001b[39;00m):\n\u001b[0;32m--> 765\u001b[0m     \u001b[39mself\u001b[39;49m\u001b[39m.\u001b[39;49m_event\u001b[39m.\u001b[39;49mwait(timeout)\n",
      "File \u001b[0;32m/usr/local/Cellar/python@3.10/3.10.9/Frameworks/Python.framework/Versions/3.10/lib/python3.10/threading.py:607\u001b[0m, in \u001b[0;36mEvent.wait\u001b[0;34m(self, timeout)\u001b[0m\n\u001b[1;32m    605\u001b[0m signaled \u001b[39m=\u001b[39m \u001b[39mself\u001b[39m\u001b[39m.\u001b[39m_flag\n\u001b[1;32m    606\u001b[0m \u001b[39mif\u001b[39;00m \u001b[39mnot\u001b[39;00m signaled:\n\u001b[0;32m--> 607\u001b[0m     signaled \u001b[39m=\u001b[39m \u001b[39mself\u001b[39;49m\u001b[39m.\u001b[39;49m_cond\u001b[39m.\u001b[39;49mwait(timeout)\n\u001b[1;32m    608\u001b[0m \u001b[39mreturn\u001b[39;00m signaled\n",
      "File \u001b[0;32m/usr/local/Cellar/python@3.10/3.10.9/Frameworks/Python.framework/Versions/3.10/lib/python3.10/threading.py:320\u001b[0m, in \u001b[0;36mCondition.wait\u001b[0;34m(self, timeout)\u001b[0m\n\u001b[1;32m    318\u001b[0m \u001b[39mtry\u001b[39;00m:    \u001b[39m# restore state no matter what (e.g., KeyboardInterrupt)\u001b[39;00m\n\u001b[1;32m    319\u001b[0m     \u001b[39mif\u001b[39;00m timeout \u001b[39mis\u001b[39;00m \u001b[39mNone\u001b[39;00m:\n\u001b[0;32m--> 320\u001b[0m         waiter\u001b[39m.\u001b[39;49macquire()\n\u001b[1;32m    321\u001b[0m         gotit \u001b[39m=\u001b[39m \u001b[39mTrue\u001b[39;00m\n\u001b[1;32m    322\u001b[0m     \u001b[39melse\u001b[39;00m:\n",
      "\u001b[0;31mKeyboardInterrupt\u001b[0m: "
     ]
    }
   ],
   "source": [
    "# input_output_directories = [(\"input_midi/Jazz_ML_MIDI/Jazz Midi/\", \"preprocessed_dataset/Jazz_ML_MIDI/\"), \n",
    "#                             (\"input_midi/jazz_standards/\", \"preprocessed_dataset/jazz_standards/\")]\n",
    "# input_output_directories = [(\"input_midi/irealpro_transposed/\", \"preprocessed_dataset/irealpro_dataset_v2/\")]\n",
    "input_output_directories = [(\"input_midi/transpose_augmentation/\", \"preprocessed_dataset/augmentation_v2/\")]\n",
    "run_in_parallel(input_output_directories)"
   ]
  }
 ],
 "metadata": {
  "kernelspec": {
   "display_name": "Python 3.10.8 64-bit",
   "language": "python",
   "name": "python3"
  },
  "language_info": {
   "codemirror_mode": {
    "name": "ipython",
    "version": 3
   },
   "file_extension": ".py",
   "mimetype": "text/x-python",
   "name": "python",
   "nbconvert_exporter": "python",
   "pygments_lexer": "ipython3",
   "version": "3.10.9"
  },
  "orig_nbformat": 4,
  "vscode": {
   "interpreter": {
    "hash": "aee8b7b246df8f9039afb4144a1f6fd8d2ca17a180786b69acc140d282b71a49"
   }
  }
 },
 "nbformat": 4,
 "nbformat_minor": 2
}
