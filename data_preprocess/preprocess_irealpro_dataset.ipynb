{
 "cells": [
  {
   "cell_type": "code",
   "execution_count": 1,
   "metadata": {},
   "outputs": [],
   "source": [
    "import pretty_midi\n",
    "import os"
   ]
  },
  {
   "cell_type": "code",
   "execution_count": 23,
   "metadata": {},
   "outputs": [],
   "source": [
    "def remove_count_in(midi_data: pretty_midi.PrettyMIDI):\n",
    "    offset = midi_data.get_downbeats()[1]\n",
    "    for instr in midi_data.instruments:\n",
    "        instr: pretty_midi.Instrument\n",
    "        if instr.name == \"Click\":\n",
    "            midi_data.instruments.remove(instr)\n",
    "            continue\n",
    "        for note in instr.notes:\n",
    "            note: pretty_midi.Note\n",
    "            note.start -= offset\n",
    "            note.end -= offset\n",
    "        for cc in instr.control_changes:\n",
    "            cc: pretty_midi.ControlChange\n",
    "            cc.time -= offset\n",
    "\n",
    "    return midi_data"
   ]
  },
  {
   "cell_type": "code",
   "execution_count": 24,
   "metadata": {},
   "outputs": [
    {
     "name": "stdout",
     "output_type": "stream",
     "text": [
      "502 Blues.mid\n"
     ]
    },
    {
     "name": "stderr",
     "output_type": "stream",
     "text": [
      "/usr/local/lib/python3.10/site-packages/pretty_midi/pretty_midi.py:97: RuntimeWarning: Tempo, Key or Time signature change events found on non-zero tracks.  This is not a valid type 0 or type 1 MIDI file.  Tempo, Key or Time Signature may be wrong.\n",
      "  warnings.warn(\n"
     ]
    },
    {
     "name": "stdout",
     "output_type": "stream",
     "text": [
      "52nd Street Theme.mid\n",
      "9.20 Special.mid\n",
      "A Beautiful Friendship.mid\n",
      "A Certain Smile.mid\n",
      "A Child Is Born.mid\n",
      "A Fine Romance.mid\n",
      "A Foggy Day.mid\n",
      "A Kiss To Build A Dream On.mid\n",
      "A Pretty Girl Is Like A Melody.mid\n",
      "A Sleepin' Bee.mid\n",
      "A Taste Of Honey.mid\n",
      "A Tisket A Tasket.mid\n",
      "A Weaver Of Dreams.mid\n",
      "Ac-Cent-Tchu-Ate The Positive.mid\n",
      "Across The Alley From The Alamo.mid\n",
      "Afro Blue.mid\n",
      "Afternoon In Paris.mid\n",
      "Ain't Misbehavin'.mid\n",
      "Alexander's Ragtime Band.mid\n",
      "Alfie's Theme.mid\n",
      "Alice In Wonderland.mid\n",
      "All Alone.mid\n",
      "All Blues.mid\n",
      "All By Myself.mid\n",
      "All Of Me.mid\n",
      "All Of You.mid\n",
      "All Through The Day.mid\n",
      "All Through The Night.mid\n",
      "Almost Like Being In Love.mid\n",
      "Alone Together.mid\n",
      "Along Came Betty.mid\n",
      "Always.mid\n",
      "Am I Blue_.mid\n",
      "And The Angels Sing.mid\n",
      "Anything Goes.mid\n",
      "April In Paris.mid\n",
      "Aren't You Glad You're You.mid\n",
      "As Long As I Live.mid\n",
      "At Last.mid\n",
      "At Long Last Love.mid\n",
      "Autumn Leaves.mid\n",
      "Ba-lue Bolivar Ba-lues-are.mid\n",
      "Backstage Sally.mid\n",
      "Bags and Trane.mid\n",
      "Bags' Groove.mid\n",
      "Barbara.mid\n",
      "Baubles, Bangles and Beads.mid\n",
      "Be Careful It's My Heart.mid\n",
      "Be My Love.mid\n",
      "Beatrice.mid\n",
      "Beautiful Love.mid\n",
      "Begin The Beguine.mid\n",
      "Bemsha Swing.mid\n",
      "Better Git It In Your Soul.mid\n",
      "Better Than Anything.mid\n",
      "Beyond The Blue Horizon.mid\n",
      "Beyond The Sea.mid\n",
      "Bidin' My Time.mid\n",
      "Bill's Hit Tune.mid\n",
      "Black And Tan Fantasy.mid\n",
      "Black Narcissus.mid\n",
      "Blue (And Broken Hearted).mid\n",
      "Blue Champagne.mid\n",
      "Blue Daniel.mid\n",
      "Blue Lou.mid\n",
      "Blue Monk.mid\n",
      "Blue Moon.mid\n",
      "Blue Silver.mid\n",
      "Blue Sphere.mid\n",
      "Blueberry Hill.mid\n",
      "Bluehawk.mid\n",
      "Blues Five Spot.mid\n",
      "Blues March.mid\n",
      "Bluesette.mid\n",
      "Boo Boo's Birthday.mid\n",
      "Booker's Waltz.mid\n",
      "Boplicity.mid\n",
      "Brilliant Corners.mid\n",
      "Bunko.mid\n",
      "Butterfly Dreams.mid\n",
      "By Myself.mid\n",
      "Bye Bye Baby.mid\n",
      "Bye Bye Blackbird.mid\n",
      "Bye-Ya.mid\n",
      "C'est Si Bon.mid\n",
      "C-Jam Blues.mid\n",
      "Cabin in the Sky.mid\n",
      "Call Me Irresponsible.mid\n",
      "Can't We Be Friends.mid\n",
      "Candy.mid\n",
      "Change Partners.mid\n",
      "Cheers.mid\n",
      "Cheryl.mid\n",
      "Chicago.mid\n",
      "Close Your Eyes.mid\n",
      "Come Back To Me.mid\n",
      "Come Rain Or Come Shine.mid\n",
      "Comes Love.mid\n",
      "Comrade Conrad.mid\n",
      "Conception.mid\n",
      "Confessin' (That I Love You).mid\n",
      "Contemplation.mid\n",
      "Copenhagen.mid\n",
      "Cottage For Sale.mid\n",
      "Creole Love Call.mid\n",
      "Crisis.mid\n",
      "Criss Cross.mid\n",
      "Cute.mid\n",
      "Cyclic Episode.mid\n",
      "Cynthia's In Love.mid\n",
      "Dancing In The Dark.mid\n",
      "Danny Boy.mid\n",
      "Day By Day.mid\n",
      "Day In, Day Out.mid\n",
      "Daybreak.mid\n",
      "Days Of Wine And Roses.mid\n",
      "Dear Lord.mid\n",
      "Dear Old Stockholm.mid\n",
      "Dearly Beloved.mid\n",
      "Decision.mid\n",
      "Deed I Do.mid\n",
      "Deep Purple.mid\n",
      "Deluge.mid\n",
      "Diane.mid\n",
      "Dienda.mid\n",
      "Django.mid\n",
      "Do Nothin' Til You Hear From Me.mid\n",
      "Do You Know What It Means_.mid\n",
      "Dolphin Dance.mid\n",
      "Don't Be That Way.mid\n",
      "Don't Fence Me In.mid\n",
      "Don't Get Around Much Anymore.mid\n",
      "Don't Misunderstand.mid\n",
      "Down By The Riverside.mid\n",
      "Down In The Depths.mid\n",
      "Doxy.mid\n",
      "Dream Dancing.mid\n",
      "Driftin'.mid\n",
      "East Of The Sun.mid\n",
      "Easy Street.mid\n",
      "Easy To Love.mid\n",
      "Ecaroh.mid\n",
      "Eiderdown.mid\n",
      "Elora.mid\n",
      "Emily.mid\n",
      "Epilogue.mid\n",
      "Epistrophy.mid\n",
      "Eronel.mid\n",
      "Everybody's Song But My Own.mid\n",
      "Everything I Love.mid\n",
      "Everything I've Got Belongs To You.mid\n",
      "Evidence.mid\n",
      "Exactly Like You.mid\n",
      "Falling In Love Again.mid\n",
      "Falling In Love With Love.mid\n",
      "Farmer's Trust.mid\n",
      "Fascination.mid\n",
      "Fee-Fi-Fo-Fum.mid\n",
      "Fever.mid\n",
      "Five Brothers.mid\n",
      "Fly Me To The Moon.mid\n",
      "Flying Home.mid\n",
      "Footprints.mid\n",
      "For Jan.mid\n",
      "For Once In My Life.mid\n",
      "Four In One.mid\n",
      "Freckle Face.mid\n",
      "Freddie Freeloader.mid\n",
      "Friday The 13th.mid\n",
      "Full House.mid\n",
      "Funk In Deep Freeze.mid\n",
      "Gallop's Gallop.mid\n",
      "Gary's Notebook.mid\n",
      "Get Out Of Town.mid\n",
      "Give Me The Simple Life.mid\n",
      "Glad To Be Unhappy.mid\n",
      "Gloria's Step.mid\n",
      "Godchild.mid\n",
      "Golden Earring.mid\n",
      "Gone With The Wind.mid\n",
      "Good Bait.mid\n",
      "Green Chimneys.mid\n",
      "Hackensack.mid\n",
      "Hallelujah I Just Love Him So.mid\n",
      "Happiness Is A Thing Called Joe.mid\n",
      "Have You Met Miss Jones_.mid\n",
      "He's A Tramp.mid\n",
      "Heart And Soul.mid\n",
      "Heatwave.mid\n",
      "Hello Dolly.mid\n",
      "Heyoke.mid\n",
      "High Fly.mid\n",
      "High Hopes.mid\n",
      "Home Cookin'.mid\n",
      "Horace-Scope.mid\n",
      "How About You.mid\n",
      "How Deep Is The Ocean.mid\n",
      "How High The Moon.mid\n",
      "How Little We Know.mid\n",
      "How My Heart Sings.mid\n",
      "I Can't Believe...You're In Love....mid\n",
      "I Can't Give You Anything But Love.mid\n",
      "I Could Have Danced All Night.mid\n",
      "I Could Write A Book.mid\n",
      "I Didn't Know What Time It Was.mid\n",
      "I Don't Know Enough About You.mid\n",
      "I Don't Want To Miss Mississippi.mid\n",
      "I Found A New Baby.mid\n",
      "I Get A Kick Out Of You.mid\n",
      "I Got The Sun In The Morning.mid\n",
      "I Hadn't Anyone Till You.mid\n",
      "I Have Dreamed.mid\n",
      "I Hear A Rhapsody.mid\n",
      "I Hear Music.mid\n",
      "I Let A Song Go Out Of My Heart.mid\n",
      "I Like The Likes Of You.mid\n",
      "I Love Being Here With You.mid\n",
      "I Love Paris.mid\n",
      "I May Be Wrong.mid\n",
      "I Mean You.mid\n",
      "I Remember You.mid\n",
      "I Should Care.mid\n",
      "I Think Of You.mid\n",
      "I Used To Be Color Blind.mid\n",
      "I Was Doing All Right.mid\n",
      "I Will Wait For You.mid\n",
      "I Wish I Were In Love Again.mid\n",
      "I Wish You Love.mid\n",
      "I Won't Dance.mid\n",
      "I'll Be Seeing You.mid\n",
      "I'll Close My Eyes.mid\n",
      "I'll Get By (As Long As I Have You).mid\n",
      "I'll Never Be The Same.mid\n",
      "I'll Only Miss Her When I Think Of Her.mid\n",
      "I'll Remember April.mid\n",
      "I'll Take Romance.mid\n",
      "I'm All Smiles.mid\n",
      "I'm Always Chasing Rainbows.mid\n",
      "I'm Confessin' That I Love You.mid\n",
      "I'm Getting Sentimental Over You.mid\n",
      "I'm Gonna Sit Right Down and Write Myself A Letter.mid\n",
      "I'm In The Mood For Love.mid\n",
      "I'm Just A Lucky So-And-So.mid\n",
      "I'm Old Fashioned.mid\n",
      "I'm Putting All My Eggs In One Basket.mid\n",
      "I'm Sitting On Top Of The World.mid\n",
      "I've Found A New Baby.mid\n",
      "I've Got My Love To Keep Me Warm.mid\n",
      "I've Got You Under My Skin.mid\n",
      "I've Heard That Song Before.mid\n",
      "I've Never Been In Love Before.mid\n",
      "I've Told Eve'ry Little Star.mid\n",
      "If Ever I Would Leave You.mid\n",
      "If I Didn't Care.mid\n",
      "If I Should Lose You.mid\n",
      "If You Ever Should Leave.mid\n",
      "In A Little Spanish Town.mid\n",
      "In A Mellow Tone (In A Mellotone).mid\n",
      "In A Shanty In Old Shanty Town.mid\n",
      "In Love In Vain.mid\n",
      "In The Cool, Cool, Cool Of The Evening.mid\n",
      "The Balance.mid\n",
      "The Best Is Yet To Come (Page 1).mid\n",
      "The Best Is Yet To Come (Page 2).mid\n",
      "The Best Thing For You Is Me.mid\n",
      "The Blue Room.mid\n",
      "The Boy Next Door.mid\n",
      "The Cool One.mid\n",
      "The Duke.mid\n",
      "The Frim Fram Sauce.mid\n",
      "The Gravy Waltz.mid\n"
     ]
    }
   ],
   "source": [
    "count_in_midi_dir = \"../input_midi/irealpro_midi_count_in/\"\n",
    "output_midi_dir = \"../input_midi/irealpro_midi/\"\n",
    "\n",
    "for file_name in sorted(os.listdir(count_in_midi_dir)):\n",
    "    if file_name == \".DS_Store\":\n",
    "        continue\n",
    "    print(file_name)\n",
    "    midi_data = pretty_midi.PrettyMIDI(count_in_midi_dir+file_name)\n",
    "    remove_count_in(midi_data).write(output_midi_dir+file_name)\n",
    "    "
   ]
  },
  {
   "cell_type": "code",
   "execution_count": 3,
   "metadata": {},
   "outputs": [
    {
     "data": {
      "text/plain": [
       "273"
      ]
     },
     "execution_count": 3,
     "metadata": {},
     "output_type": "execute_result"
    }
   ],
   "source": [
    "len(os.listdir(\"../input_midi/irealpro_midi/\"))"
   ]
  },
  {
   "cell_type": "code",
   "execution_count": 19,
   "metadata": {},
   "outputs": [
    {
     "name": "stderr",
     "output_type": "stream",
     "text": [
      "/usr/local/lib/python3.10/site-packages/pretty_midi/pretty_midi.py:97: RuntimeWarning: Tempo, Key or Time signature change events found on non-zero tracks.  This is not a valid type 0 or type 1 MIDI file.  Tempo, Key or Time Signature may be wrong.\n",
      "  warnings.warn(\n"
     ]
    }
   ],
   "source": [
    "midi_data = pretty_midi.PrettyMIDI(\"../input_midi/irealpro_midi/\"+\"9.20 Special.mid\")"
   ]
  },
  {
   "cell_type": "code",
   "execution_count": 5,
   "metadata": {},
   "outputs": [
    {
     "data": {
      "text/plain": [
       "2.4"
      ]
     },
     "execution_count": 5,
     "metadata": {},
     "output_type": "execute_result"
    }
   ],
   "source": [
    "midi_data.get_downbeats()[1]"
   ]
  },
  {
   "cell_type": "code",
   "execution_count": 6,
   "metadata": {},
   "outputs": [
    {
     "data": {
      "text/plain": [
       "[Instrument(program=0, is_drum=False, name=\"Piano\"),\n",
       " Instrument(program=32, is_drum=False, name=\"Bass\"),\n",
       " Instrument(program=0, is_drum=True, name=\"Drums\"),\n",
       " Instrument(program=116, is_drum=False, name=\"Click\")]"
      ]
     },
     "execution_count": 6,
     "metadata": {},
     "output_type": "execute_result"
    }
   ],
   "source": [
    "midi_data.instruments"
   ]
  },
  {
   "cell_type": "code",
   "execution_count": 17,
   "metadata": {},
   "outputs": [],
   "source": []
  },
  {
   "cell_type": "code",
   "execution_count": 20,
   "metadata": {},
   "outputs": [
    {
     "data": {
      "image/png": "[encoded data removed]",
      "image/svg+xml": "<?xml version=\"1.0\" encoding=\"utf-8\" standalone=\"no\"?>\n<!DOCTYPE svg PUBLIC \"-//W3C//DTD SVG 1.1//EN\"\n  \"http://www.w3.org/Graphics/SVG/1.1/DTD/svg11.dtd\">\n<svg xmlns:xlink=\"http://www.w3.org/1999/xlink\" width=\"598.4875pt\" height=\"141.958125pt\" viewBox=\"0 0 598.4875 141.958125\" xmlns=\"http://www.w3.org/2000/svg\" version=\"1.1\">\n <metadata>\n  <rdf:RDF xmlns:dc=\"http://purl.org/dc/elements/1.1/\" xmlns:cc=\"http://creativecommons.org/ns#\" xmlns:rdf=\"http://www.w3.org/1999/02/22-rdf-syntax-ns#\">\n   <cc:Work>\n    <dc:type rdf:resource=\"http://purl.org/dc/dcmitype/StillImage\"/>\n    <dc:date>2022-12-25T03:05:29.067395</dc:date>\n    <dc:format>image/svg+xml</dc:format>\n    <dc:creator>\n     <cc:Agent>\n      <dc:title>Matplotlib v3.6.1, https://matplotlib.org/</dc:title>\n     </cc:Agent>\n    </dc:creator>\n   </cc:Work>\n  </rdf:RDF>\n </metadata>\n <defs>\n  <style type=\"text/css\">*{stroke-linejoin: round; stroke-linecap: butt}</style>\n </defs>\n <g id=\"figure_1\">\n  <g id=\"patch_1\">\n   <path d=\"M 0 141.958125 \nL 598.4875 141.958125 \nL 598.4875 0 \nL 0 0 \nz\n\" style=\"fill: #ffffff\"/>\n  </g>\n  <g id=\"axes_1\">\n   <g id=\"patch_2\">\n    <path d=\"M 33.2875 118.08 \nL 591.2875 118.08 \nL 591.2875 7.2 \nL 33.2875 7.2 \nz\n\" style=\"fill: #ffffff\"/>\n   </g>\n   <g clip-path=\"url(#p2967218e36)\">\n    <image xlink:href=\"data:image/png;base64,\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\" id=\"image6f1931888c\" transform=\"matrix(0.279 0 0 -0.867187 33.2875 118.08)\" style=\"image-rendering:crisp-edges;image-rendering:pixelated\" width=\"2000\" height=\"128\"/>\n   </g>\n   <g id=\"matplotlib.axis_1\">\n    <g id=\"xtick_1\">\n     <g id=\"line2d_1\">\n      <defs>\n       <path id=\"m65f93b7cfd\" d=\"M 0 0 \nL 0 3.5 \n\" style=\"stroke: #000000; stroke-width: 0.8\"/>\n      </defs>\n      <g>\n       <use xlink:href=\"#m65f93b7cfd\" x=\"33.427\" y=\"118.08\" style=\"stroke: #000000; stroke-width: 0.8\"/>\n      </g>\n     </g>\n     <g id=\"text_1\">\n      <!-- 0 -->\n      <g transform=\"translate(30.24575 132.678438) scale(0.1 -0.1)\">\n       <defs>\n        <path id=\"DejaVuSans-30\" d=\"M 2034 4250 \nQ 1547 4250 1301 3770 \nQ 1056 3291 1056 2328 \nQ 1056 1369 1301 889 \nQ 1547 409 2034 409 \nQ 2525 409 2770 889 \nQ 3016 1369 3016 2328 \nQ 3016 3291 2770 3770 \nQ 2525 4250 2034 4250 \nz\nM 2034 4750 \nQ 2819 4750 3233 4129 \nQ 3647 3509 3647 2328 \nQ 3647 1150 3233 529 \nQ 2819 -91 2034 -91 \nQ 1250 -91 836 529 \nQ 422 1150 422 2328 \nQ 422 3509 836 4129 \nQ 1250 4750 2034 4750 \nz\n\" transform=\"scale(0.015625)\"/>\n       </defs>\n       <use xlink:href=\"#DejaVuSans-30\"/>\n      </g>\n     </g>\n    </g>\n    <g id=\"xtick_2\">\n     <g id=\"line2d_2\">\n      <g>\n       <use xlink:href=\"#m65f93b7cfd\" x=\"103.177\" y=\"118.08\" style=\"stroke: #000000; stroke-width: 0.8\"/>\n      </g>\n     </g>\n     <g id=\"text_2\">\n      <!-- 250 -->\n      <g transform=\"translate(93.63325 132.678438) scale(0.1 -0.1)\">\n       <defs>\n        <path id=\"DejaVuSans-32\" d=\"M 1228 531 \nL 3431 531 \nL 3431 0 \nL 469 0 \nL 469 531 \nQ 828 903 1448 1529 \nQ 2069 2156 2228 2338 \nQ 2531 2678 2651 2914 \nQ 2772 3150 2772 3378 \nQ 2772 3750 2511 3984 \nQ 2250 4219 1831 4219 \nQ 1534 4219 1204 4116 \nQ 875 4013 500 3803 \nL 500 4441 \nQ 881 4594 1212 4672 \nQ 1544 4750 1819 4750 \nQ 2544 4750 2975 4387 \nQ 3406 4025 3406 3419 \nQ 3406 3131 3298 2873 \nQ 3191 2616 2906 2266 \nQ 2828 2175 2409 1742 \nQ 1991 1309 1228 531 \nz\n\" transform=\"scale(0.015625)\"/>\n        <path id=\"DejaVuSans-35\" d=\"M 691 4666 \nL 3169 4666 \nL 3169 4134 \nL 1269 4134 \nL 1269 2991 \nQ 1406 3038 1543 3061 \nQ 1681 3084 1819 3084 \nQ 2600 3084 3056 2656 \nQ 3513 2228 3513 1497 \nQ 3513 744 3044 326 \nQ 2575 -91 1722 -91 \nQ 1428 -91 1123 -41 \nQ 819 9 494 109 \nL 494 744 \nQ 775 591 1075 516 \nQ 1375 441 1709 441 \nQ 2250 441 2565 725 \nQ 2881 1009 2881 1497 \nQ 2881 1984 2565 2268 \nQ 2250 2553 1709 2553 \nQ 1456 2553 1204 2497 \nQ 953 2441 691 2322 \nL 691 4666 \nz\n\" transform=\"scale(0.015625)\"/>\n       </defs>\n       <use xlink:href=\"#DejaVuSans-32\"/>\n       <use xlink:href=\"#DejaVuSans-35\" x=\"63.623047\"/>\n       <use xlink:href=\"#DejaVuSans-30\" x=\"127.246094\"/>\n      </g>\n     </g>\n    </g>\n    <g id=\"xtick_3\">\n     <g id=\"line2d_3\">\n      <g>\n       <use xlink:href=\"#m65f93b7cfd\" x=\"172.927\" y=\"118.08\" style=\"stroke: #000000; stroke-width: 0.8\"/>\n      </g>\n     </g>\n     <g id=\"text_3\">\n      <!-- 500 -->\n      <g transform=\"translate(163.38325 132.678438) scale(0.1 -0.1)\">\n       <use xlink:href=\"#DejaVuSans-35\"/>\n       <use xlink:href=\"#DejaVuSans-30\" x=\"63.623047\"/>\n       <use xlink:href=\"#DejaVuSans-30\" x=\"127.246094\"/>\n      </g>\n     </g>\n    </g>\n    <g id=\"xtick_4\">\n     <g id=\"line2d_4\">\n      <g>\n       <use xlink:href=\"#m65f93b7cfd\" x=\"242.677\" y=\"118.08\" style=\"stroke: #000000; stroke-width: 0.8\"/>\n      </g>\n     </g>\n     <g id=\"text_4\">\n      <!-- 750 -->\n      <g transform=\"translate(233.13325 132.678438) scale(0.1 -0.1)\">\n       <defs>\n        <path id=\"DejaVuSans-37\" d=\"M 525 4666 \nL 3525 4666 \nL 3525 4397 \nL 1831 0 \nL 1172 0 \nL 2766 4134 \nL 525 4134 \nL 525 4666 \nz\n\" transform=\"scale(0.015625)\"/>\n       </defs>\n       <use xlink:href=\"#DejaVuSans-37\"/>\n       <use xlink:href=\"#DejaVuSans-35\" x=\"63.623047\"/>\n       <use xlink:href=\"#DejaVuSans-30\" x=\"127.246094\"/>\n      </g>\n     </g>\n    </g>\n    <g id=\"xtick_5\">\n     <g id=\"line2d_5\">\n      <g>\n       <use xlink:href=\"#m65f93b7cfd\" x=\"312.427\" y=\"118.08\" style=\"stroke: #000000; stroke-width: 0.8\"/>\n      </g>\n     </g>\n     <g id=\"text_5\">\n      <!-- 1000 -->\n      <g transform=\"translate(299.702 132.678438) scale(0.1 -0.1)\">\n       <defs>\n        <path id=\"DejaVuSans-31\" d=\"M 794 531 \nL 1825 531 \nL 1825 4091 \nL 703 3866 \nL 703 4441 \nL 1819 4666 \nL 2450 4666 \nL 2450 531 \nL 3481 531 \nL 3481 0 \nL 794 0 \nL 794 531 \nz\n\" transform=\"scale(0.015625)\"/>\n       </defs>\n       <use xlink:href=\"#DejaVuSans-31\"/>\n       <use xlink:href=\"#DejaVuSans-30\" x=\"63.623047\"/>\n       <use xlink:href=\"#DejaVuSans-30\" x=\"127.246094\"/>\n       <use xlink:href=\"#DejaVuSans-30\" x=\"190.869141\"/>\n      </g>\n     </g>\n    </g>\n    <g id=\"xtick_6\">\n     <g id=\"line2d_6\">\n      <g>\n       <use xlink:href=\"#m65f93b7cfd\" x=\"382.177\" y=\"118.08\" style=\"stroke: #000000; stroke-width: 0.8\"/>\n      </g>\n     </g>\n     <g id=\"text_6\">\n      <!-- 1250 -->\n      <g transform=\"translate(369.452 132.678438) scale(0.1 -0.1)\">\n       <use xlink:href=\"#DejaVuSans-31\"/>\n       <use xlink:href=\"#DejaVuSans-32\" x=\"63.623047\"/>\n       <use xlink:href=\"#DejaVuSans-35\" x=\"127.246094\"/>\n       <use xlink:href=\"#DejaVuSans-30\" x=\"190.869141\"/>\n      </g>\n     </g>\n    </g>\n    <g id=\"xtick_7\">\n     <g id=\"line2d_7\">\n      <g>\n       <use xlink:href=\"#m65f93b7cfd\" x=\"451.927\" y=\"118.08\" style=\"stroke: #000000; stroke-width: 0.8\"/>\n      </g>\n     </g>\n     <g id=\"text_7\">\n      <!-- 1500 -->\n      <g transform=\"translate(439.202 132.678438) scale(0.1 -0.1)\">\n       <use xlink:href=\"#DejaVuSans-31\"/>\n       <use xlink:href=\"#DejaVuSans-35\" x=\"63.623047\"/>\n       <use xlink:href=\"#DejaVuSans-30\" x=\"127.246094\"/>\n       <use xlink:href=\"#DejaVuSans-30\" x=\"190.869141\"/>\n      </g>\n     </g>\n    </g>\n    <g id=\"xtick_8\">\n     <g id=\"line2d_8\">\n      <g>\n       <use xlink:href=\"#m65f93b7cfd\" x=\"521.677\" y=\"118.08\" style=\"stroke: #000000; stroke-width: 0.8\"/>\n      </g>\n     </g>\n     <g id=\"text_8\">\n      <!-- 1750 -->\n      <g transform=\"translate(508.952 132.678438) scale(0.1 -0.1)\">\n       <use xlink:href=\"#DejaVuSans-31\"/>\n       <use xlink:href=\"#DejaVuSans-37\" x=\"63.623047\"/>\n       <use xlink:href=\"#DejaVuSans-35\" x=\"127.246094\"/>\n       <use xlink:href=\"#DejaVuSans-30\" x=\"190.869141\"/>\n      </g>\n     </g>\n    </g>\n   </g>\n   <g id=\"matplotlib.axis_2\">\n    <g id=\"ytick_1\">\n     <g id=\"line2d_9\">\n      <defs>\n       <path id=\"mc22926864d\" d=\"M 0 0 \nL -3.5 0 \n\" style=\"stroke: #000000; stroke-width: 0.8\"/>\n      </defs>\n      <g>\n       <use xlink:href=\"#mc22926864d\" x=\"33.2875\" y=\"117.646875\" style=\"stroke: #000000; stroke-width: 0.8\"/>\n      </g>\n     </g>\n     <g id=\"text_9\">\n      <!-- 0 -->\n      <g transform=\"translate(19.925 121.446094) scale(0.1 -0.1)\">\n       <use xlink:href=\"#DejaVuSans-30\"/>\n      </g>\n     </g>\n    </g>\n    <g id=\"ytick_2\">\n     <g id=\"line2d_10\">\n      <g>\n       <use xlink:href=\"#mc22926864d\" x=\"33.2875\" y=\"74.334375\" style=\"stroke: #000000; stroke-width: 0.8\"/>\n      </g>\n     </g>\n     <g id=\"text_10\">\n      <!-- 50 -->\n      <g transform=\"translate(13.5625 78.133594) scale(0.1 -0.1)\">\n       <use xlink:href=\"#DejaVuSans-35\"/>\n       <use xlink:href=\"#DejaVuSans-30\" x=\"63.623047\"/>\n      </g>\n     </g>\n    </g>\n    <g id=\"ytick_3\">\n     <g id=\"line2d_11\">\n      <g>\n       <use xlink:href=\"#mc22926864d\" x=\"33.2875\" y=\"31.021875\" style=\"stroke: #000000; stroke-width: 0.8\"/>\n      </g>\n     </g>\n     <g id=\"text_11\">\n      <!-- 100 -->\n      <g transform=\"translate(7.2 34.821094) scale(0.1 -0.1)\">\n       <use xlink:href=\"#DejaVuSans-31\"/>\n       <use xlink:href=\"#DejaVuSans-30\" x=\"63.623047\"/>\n       <use xlink:href=\"#DejaVuSans-30\" x=\"127.246094\"/>\n      </g>\n     </g>\n    </g>\n   </g>\n   <g id=\"patch_3\">\n    <path d=\"M 33.2875 118.08 \nL 33.2875 7.2 \n\" style=\"fill: none; stroke: #000000; stroke-width: 0.8; stroke-linejoin: miter; stroke-linecap: square\"/>\n   </g>\n   <g id=\"patch_4\">\n    <path d=\"M 591.2875 118.08 \nL 591.2875 7.2 \n\" style=\"fill: none; stroke: #000000; stroke-width: 0.8; stroke-linejoin: miter; stroke-linecap: square\"/>\n   </g>\n   <g id=\"patch_5\">\n    <path d=\"M 33.2875 118.08 \nL 591.2875 118.08 \n\" style=\"fill: none; stroke: #000000; stroke-width: 0.8; stroke-linejoin: miter; stroke-linecap: square\"/>\n   </g>\n   <g id=\"patch_6\">\n    <path d=\"M 33.2875 7.2 \nL 591.2875 7.2 \n\" style=\"fill: none; stroke: #000000; stroke-width: 0.8; stroke-linejoin: miter; stroke-linecap: square\"/>\n   </g>\n  </g>\n </g>\n <defs>\n  <clipPath id=\"p2967218e36\">\n   <rect x=\"33.2875\" y=\"7.2\" width=\"558\" height=\"110.88\"/>\n  </clipPath>\n </defs>\n</svg>\n",
      "text/plain": [
       "<Figure size 1000x200 with 1 Axes>"
      ]
     },
     "metadata": {},
     "output_type": "display_data"
    }
   ],
   "source": [
    "import numpy as np\n",
    "import matplotlib.pyplot as plt\n",
    "\n",
    "ground = midi_data.get_piano_roll()[:,:2000]\n",
    "fig, ax = plt.subplots()\n",
    "ax.imshow(ground, origin=\"lower\", aspect=\"auto\", interpolation=\"none\")\n",
    "fig.set_size_inches(10, 2)\n",
    "# ax.set_yticks(list(range(12)))\n",
    "# ax.set_yticklabels([\"C\", \"Db\", \"D\", \"Eb\", \"E\", \"F\", \"Gb\", \"G\", \"Ab\", \"A\", \"Bb\", \"B\"])\n",
    "plt.show()"
   ]
  },
  {
   "cell_type": "code",
   "execution_count": 21,
   "metadata": {},
   "outputs": [
    {
     "data": {
      "image/png": "[encoded data removed]",
      "image/svg+xml": "<?xml version=\"1.0\" encoding=\"utf-8\" standalone=\"no\"?>\n<!DOCTYPE svg PUBLIC \"-//W3C//DTD SVG 1.1//EN\"\n  \"http://www.w3.org/Graphics/SVG/1.1/DTD/svg11.dtd\">\n<svg xmlns:xlink=\"http://www.w3.org/1999/xlink\" width=\"598.4875pt\" height=\"141.958125pt\" viewBox=\"0 0 598.4875 141.958125\" xmlns=\"http://www.w3.org/2000/svg\" version=\"1.1\">\n <metadata>\n  <rdf:RDF xmlns:dc=\"http://purl.org/dc/elements/1.1/\" xmlns:cc=\"http://creativecommons.org/ns#\" xmlns:rdf=\"http://www.w3.org/1999/02/22-rdf-syntax-ns#\">\n   <cc:Work>\n    <dc:type rdf:resource=\"http://purl.org/dc/dcmitype/StillImage\"/>\n    <dc:date>2022-12-25T03:05:31.996287</dc:date>\n    <dc:format>image/svg+xml</dc:format>\n    <dc:creator>\n     <cc:Agent>\n      <dc:title>Matplotlib v3.6.1, https://matplotlib.org/</dc:title>\n     </cc:Agent>\n    </dc:creator>\n   </cc:Work>\n  </rdf:RDF>\n </metadata>\n <defs>\n  <style type=\"text/css\">*{stroke-linejoin: round; stroke-linecap: butt}</style>\n </defs>\n <g id=\"figure_1\">\n  <g id=\"patch_1\">\n   <path d=\"M 0 141.958125 \nL 598.4875 141.958125 \nL 598.4875 0 \nL 0 0 \nz\n\" style=\"fill: #ffffff\"/>\n  </g>\n  <g id=\"axes_1\">\n   <g id=\"patch_2\">\n    <path d=\"M 33.2875 118.08 \nL 591.2875 118.08 \nL 591.2875 7.2 \nL 33.2875 7.2 \nz\n\" style=\"fill: #ffffff\"/>\n   </g>\n   <g clip-path=\"url(#p9e75a9941d)\">\n    <image xlink:href=\"data:image/png;base64,\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\" id=\"image675b9daac2\" transform=\"matrix(0.279 0 0 -0.867187 33.2875 118.08)\" style=\"image-rendering:crisp-edges;image-rendering:pixelated\" width=\"2000\" height=\"128\"/>\n   </g>\n   <g id=\"matplotlib.axis_1\">\n    <g id=\"xtick_1\">\n     <g id=\"line2d_1\">\n      <defs>\n       <path id=\"md1371d04e2\" d=\"M 0 0 \nL 0 3.5 \n\" style=\"stroke: #000000; stroke-width: 0.8\"/>\n      </defs>\n      <g>\n       <use xlink:href=\"#md1371d04e2\" x=\"33.427\" y=\"118.08\" style=\"stroke: #000000; stroke-width: 0.8\"/>\n      </g>\n     </g>\n     <g id=\"text_1\">\n      <!-- 0 -->\n      <g transform=\"translate(30.24575 132.678438) scale(0.1 -0.1)\">\n       <defs>\n        <path id=\"DejaVuSans-30\" d=\"M 2034 4250 \nQ 1547 4250 1301 3770 \nQ 1056 3291 1056 2328 \nQ 1056 1369 1301 889 \nQ 1547 409 2034 409 \nQ 2525 409 2770 889 \nQ 3016 1369 3016 2328 \nQ 3016 3291 2770 3770 \nQ 2525 4250 2034 4250 \nz\nM 2034 4750 \nQ 2819 4750 3233 4129 \nQ 3647 3509 3647 2328 \nQ 3647 1150 3233 529 \nQ 2819 -91 2034 -91 \nQ 1250 -91 836 529 \nQ 422 1150 422 2328 \nQ 422 3509 836 4129 \nQ 1250 4750 2034 4750 \nz\n\" transform=\"scale(0.015625)\"/>\n       </defs>\n       <use xlink:href=\"#DejaVuSans-30\"/>\n      </g>\n     </g>\n    </g>\n    <g id=\"xtick_2\">\n     <g id=\"line2d_2\">\n      <g>\n       <use xlink:href=\"#md1371d04e2\" x=\"103.177\" y=\"118.08\" style=\"stroke: #000000; stroke-width: 0.8\"/>\n      </g>\n     </g>\n     <g id=\"text_2\">\n      <!-- 250 -->\n      <g transform=\"translate(93.63325 132.678438) scale(0.1 -0.1)\">\n       <defs>\n        <path id=\"DejaVuSans-32\" d=\"M 1228 531 \nL 3431 531 \nL 3431 0 \nL 469 0 \nL 469 531 \nQ 828 903 1448 1529 \nQ 2069 2156 2228 2338 \nQ 2531 2678 2651 2914 \nQ 2772 3150 2772 3378 \nQ 2772 3750 2511 3984 \nQ 2250 4219 1831 4219 \nQ 1534 4219 1204 4116 \nQ 875 4013 500 3803 \nL 500 4441 \nQ 881 4594 1212 4672 \nQ 1544 4750 1819 4750 \nQ 2544 4750 2975 4387 \nQ 3406 4025 3406 3419 \nQ 3406 3131 3298 2873 \nQ 3191 2616 2906 2266 \nQ 2828 2175 2409 1742 \nQ 1991 1309 1228 531 \nz\n\" transform=\"scale(0.015625)\"/>\n        <path id=\"DejaVuSans-35\" d=\"M 691 4666 \nL 3169 4666 \nL 3169 4134 \nL 1269 4134 \nL 1269 2991 \nQ 1406 3038 1543 3061 \nQ 1681 3084 1819 3084 \nQ 2600 3084 3056 2656 \nQ 3513 2228 3513 1497 \nQ 3513 744 3044 326 \nQ 2575 -91 1722 -91 \nQ 1428 -91 1123 -41 \nQ 819 9 494 109 \nL 494 744 \nQ 775 591 1075 516 \nQ 1375 441 1709 441 \nQ 2250 441 2565 725 \nQ 2881 1009 2881 1497 \nQ 2881 1984 2565 2268 \nQ 2250 2553 1709 2553 \nQ 1456 2553 1204 2497 \nQ 953 2441 691 2322 \nL 691 4666 \nz\n\" transform=\"scale(0.015625)\"/>\n       </defs>\n       <use xlink:href=\"#DejaVuSans-32\"/>\n       <use xlink:href=\"#DejaVuSans-35\" x=\"63.623047\"/>\n       <use xlink:href=\"#DejaVuSans-30\" x=\"127.246094\"/>\n      </g>\n     </g>\n    </g>\n    <g id=\"xtick_3\">\n     <g id=\"line2d_3\">\n      <g>\n       <use xlink:href=\"#md1371d04e2\" x=\"172.927\" y=\"118.08\" style=\"stroke: #000000; stroke-width: 0.8\"/>\n      </g>\n     </g>\n     <g id=\"text_3\">\n      <!-- 500 -->\n      <g transform=\"translate(163.38325 132.678438) scale(0.1 -0.1)\">\n       <use xlink:href=\"#DejaVuSans-35\"/>\n       <use xlink:href=\"#DejaVuSans-30\" x=\"63.623047\"/>\n       <use xlink:href=\"#DejaVuSans-30\" x=\"127.246094\"/>\n      </g>\n     </g>\n    </g>\n    <g id=\"xtick_4\">\n     <g id=\"line2d_4\">\n      <g>\n       <use xlink:href=\"#md1371d04e2\" x=\"242.677\" y=\"118.08\" style=\"stroke: #000000; stroke-width: 0.8\"/>\n      </g>\n     </g>\n     <g id=\"text_4\">\n      <!-- 750 -->\n      <g transform=\"translate(233.13325 132.678438) scale(0.1 -0.1)\">\n       <defs>\n        <path id=\"DejaVuSans-37\" d=\"M 525 4666 \nL 3525 4666 \nL 3525 4397 \nL 1831 0 \nL 1172 0 \nL 2766 4134 \nL 525 4134 \nL 525 4666 \nz\n\" transform=\"scale(0.015625)\"/>\n       </defs>\n       <use xlink:href=\"#DejaVuSans-37\"/>\n       <use xlink:href=\"#DejaVuSans-35\" x=\"63.623047\"/>\n       <use xlink:href=\"#DejaVuSans-30\" x=\"127.246094\"/>\n      </g>\n     </g>\n    </g>\n    <g id=\"xtick_5\">\n     <g id=\"line2d_5\">\n      <g>\n       <use xlink:href=\"#md1371d04e2\" x=\"312.427\" y=\"118.08\" style=\"stroke: #000000; stroke-width: 0.8\"/>\n      </g>\n     </g>\n     <g id=\"text_5\">\n      <!-- 1000 -->\n      <g transform=\"translate(299.702 132.678438) scale(0.1 -0.1)\">\n       <defs>\n        <path id=\"DejaVuSans-31\" d=\"M 794 531 \nL 1825 531 \nL 1825 4091 \nL 703 3866 \nL 703 4441 \nL 1819 4666 \nL 2450 4666 \nL 2450 531 \nL 3481 531 \nL 3481 0 \nL 794 0 \nL 794 531 \nz\n\" transform=\"scale(0.015625)\"/>\n       </defs>\n       <use xlink:href=\"#DejaVuSans-31\"/>\n       <use xlink:href=\"#DejaVuSans-30\" x=\"63.623047\"/>\n       <use xlink:href=\"#DejaVuSans-30\" x=\"127.246094\"/>\n       <use xlink:href=\"#DejaVuSans-30\" x=\"190.869141\"/>\n      </g>\n     </g>\n    </g>\n    <g id=\"xtick_6\">\n     <g id=\"line2d_6\">\n      <g>\n       <use xlink:href=\"#md1371d04e2\" x=\"382.177\" y=\"118.08\" style=\"stroke: #000000; stroke-width: 0.8\"/>\n      </g>\n     </g>\n     <g id=\"text_6\">\n      <!-- 1250 -->\n      <g transform=\"translate(369.452 132.678438) scale(0.1 -0.1)\">\n       <use xlink:href=\"#DejaVuSans-31\"/>\n       <use xlink:href=\"#DejaVuSans-32\" x=\"63.623047\"/>\n       <use xlink:href=\"#DejaVuSans-35\" x=\"127.246094\"/>\n       <use xlink:href=\"#DejaVuSans-30\" x=\"190.869141\"/>\n      </g>\n     </g>\n    </g>\n    <g id=\"xtick_7\">\n     <g id=\"line2d_7\">\n      <g>\n       <use xlink:href=\"#md1371d04e2\" x=\"451.927\" y=\"118.08\" style=\"stroke: #000000; stroke-width: 0.8\"/>\n      </g>\n     </g>\n     <g id=\"text_7\">\n      <!-- 1500 -->\n      <g transform=\"translate(439.202 132.678438) scale(0.1 -0.1)\">\n       <use xlink:href=\"#DejaVuSans-31\"/>\n       <use xlink:href=\"#DejaVuSans-35\" x=\"63.623047\"/>\n       <use xlink:href=\"#DejaVuSans-30\" x=\"127.246094\"/>\n       <use xlink:href=\"#DejaVuSans-30\" x=\"190.869141\"/>\n      </g>\n     </g>\n    </g>\n    <g id=\"xtick_8\">\n     <g id=\"line2d_8\">\n      <g>\n       <use xlink:href=\"#md1371d04e2\" x=\"521.677\" y=\"118.08\" style=\"stroke: #000000; stroke-width: 0.8\"/>\n      </g>\n     </g>\n     <g id=\"text_8\">\n      <!-- 1750 -->\n      <g transform=\"translate(508.952 132.678438) scale(0.1 -0.1)\">\n       <use xlink:href=\"#DejaVuSans-31\"/>\n       <use xlink:href=\"#DejaVuSans-37\" x=\"63.623047\"/>\n       <use xlink:href=\"#DejaVuSans-35\" x=\"127.246094\"/>\n       <use xlink:href=\"#DejaVuSans-30\" x=\"190.869141\"/>\n      </g>\n     </g>\n    </g>\n   </g>\n   <g id=\"matplotlib.axis_2\">\n    <g id=\"ytick_1\">\n     <g id=\"line2d_9\">\n      <defs>\n       <path id=\"mcfdc184c74\" d=\"M 0 0 \nL -3.5 0 \n\" style=\"stroke: #000000; stroke-width: 0.8\"/>\n      </defs>\n      <g>\n       <use xlink:href=\"#mcfdc184c74\" x=\"33.2875\" y=\"117.646875\" style=\"stroke: #000000; stroke-width: 0.8\"/>\n      </g>\n     </g>\n     <g id=\"text_9\">\n      <!-- 0 -->\n      <g transform=\"translate(19.925 121.446094) scale(0.1 -0.1)\">\n       <use xlink:href=\"#DejaVuSans-30\"/>\n      </g>\n     </g>\n    </g>\n    <g id=\"ytick_2\">\n     <g id=\"line2d_10\">\n      <g>\n       <use xlink:href=\"#mcfdc184c74\" x=\"33.2875\" y=\"74.334375\" style=\"stroke: #000000; stroke-width: 0.8\"/>\n      </g>\n     </g>\n     <g id=\"text_10\">\n      <!-- 50 -->\n      <g transform=\"translate(13.5625 78.133594) scale(0.1 -0.1)\">\n       <use xlink:href=\"#DejaVuSans-35\"/>\n       <use xlink:href=\"#DejaVuSans-30\" x=\"63.623047\"/>\n      </g>\n     </g>\n    </g>\n    <g id=\"ytick_3\">\n     <g id=\"line2d_11\">\n      <g>\n       <use xlink:href=\"#mcfdc184c74\" x=\"33.2875\" y=\"31.021875\" style=\"stroke: #000000; stroke-width: 0.8\"/>\n      </g>\n     </g>\n     <g id=\"text_11\">\n      <!-- 100 -->\n      <g transform=\"translate(7.2 34.821094) scale(0.1 -0.1)\">\n       <use xlink:href=\"#DejaVuSans-31\"/>\n       <use xlink:href=\"#DejaVuSans-30\" x=\"63.623047\"/>\n       <use xlink:href=\"#DejaVuSans-30\" x=\"127.246094\"/>\n      </g>\n     </g>\n    </g>\n   </g>\n   <g id=\"patch_3\">\n    <path d=\"M 33.2875 118.08 \nL 33.2875 7.2 \n\" style=\"fill: none; stroke: #000000; stroke-width: 0.8; stroke-linejoin: miter; stroke-linecap: square\"/>\n   </g>\n   <g id=\"patch_4\">\n    <path d=\"M 591.2875 118.08 \nL 591.2875 7.2 \n\" style=\"fill: none; stroke: #000000; stroke-width: 0.8; stroke-linejoin: miter; stroke-linecap: square\"/>\n   </g>\n   <g id=\"patch_5\">\n    <path d=\"M 33.2875 118.08 \nL 591.2875 118.08 \n\" style=\"fill: none; stroke: #000000; stroke-width: 0.8; stroke-linejoin: miter; stroke-linecap: square\"/>\n   </g>\n   <g id=\"patch_6\">\n    <path d=\"M 33.2875 7.2 \nL 591.2875 7.2 \n\" style=\"fill: none; stroke: #000000; stroke-width: 0.8; stroke-linejoin: miter; stroke-linecap: square\"/>\n   </g>\n  </g>\n </g>\n <defs>\n  <clipPath id=\"p9e75a9941d\">\n   <rect x=\"33.2875\" y=\"7.2\" width=\"558\" height=\"110.88\"/>\n  </clipPath>\n </defs>\n</svg>\n",
      "text/plain": [
       "<Figure size 1000x200 with 1 Axes>"
      ]
     },
     "metadata": {},
     "output_type": "display_data"
    }
   ],
   "source": [
    "ground = remove_count_in(midi_data).get_piano_roll()[:,:2000]\n",
    "fig, ax = plt.subplots()\n",
    "ax.imshow(ground, origin=\"lower\", aspect=\"auto\", interpolation=\"none\")\n",
    "fig.set_size_inches(10, 2)\n",
    "# ax.set_yticks(list(range(12)))\n",
    "# ax.set_yticklabels([\"C\", \"Db\", \"D\", \"Eb\", \"E\", \"F\", \"Gb\", \"G\", \"Ab\", \"A\", \"Bb\", \"B\"])\n",
    "plt.show()"
   ]
  },
  {
   "cell_type": "code",
   "execution_count": 22,
   "metadata": {},
   "outputs": [],
   "source": [
    "midi_data.write(\"cool.mid\")"
   ]
  }
 ],
 "metadata": {
  "kernelspec": {
   "display_name": "Python 3.10.8 64-bit",
   "language": "python",
   "name": "python3"
  },
  "language_info": {
   "codemirror_mode": {
    "name": "ipython",
    "version": 3
   },
   "file_extension": ".py",
   "mimetype": "text/x-python",
   "name": "python",
   "nbconvert_exporter": "python",
   "pygments_lexer": "ipython3",
   "version": "3.10.8"
  },
  "orig_nbformat": 4,
  "vscode": {
   "interpreter": {
    "hash": "7e1998ff7f8aa20ada591c520b972326324e5ea05489af9e422744c7c09f6dad"
   }
  }
 },
 "nbformat": 4,
 "nbformat_minor": 2
}
