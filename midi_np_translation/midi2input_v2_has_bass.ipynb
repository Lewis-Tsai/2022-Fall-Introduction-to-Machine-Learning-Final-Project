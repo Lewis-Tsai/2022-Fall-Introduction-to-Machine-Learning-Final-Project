{
 "cells": [
  {
   "cell_type": "code",
   "execution_count": 1,
   "metadata": {},
   "outputs": [],
   "source": [
    "import numpy as np\n",
    "import pretty_midi\n",
    "import time\n",
    "# import matplotlib.pyplot as plt"
   ]
  },
  {
   "cell_type": "code",
   "execution_count": 2,
   "metadata": {},
   "outputs": [],
   "source": [
    "DATA_DIR = \"./\"\n",
    "\n",
    "CHROMA_FS = 100\n",
    "\n",
    "BASS_UPPER_BOUND = pretty_midi.note_name_to_number(\"D5\")\n",
    "BASS_LOWER_BOUND = pretty_midi.note_name_to_number(\"B0\")\n",
    "BASS_REST_THRESH = 0.25"
   ]
  },
  {
   "cell_type": "markdown",
   "metadata": {},
   "source": [
    "### pad piano_roll"
   ]
  },
  {
   "cell_type": "code",
   "execution_count": 3,
   "metadata": {},
   "outputs": [],
   "source": [
    "def pad_piano_roll(target_roll_length, piano_roll):\n",
    "    if target_roll_length-piano_roll.shape[1] == 0:\n",
    "        return piano_roll\n",
    "    else:\n",
    "        return np.pad(piano_roll, ((0,0),(0,target_roll_length-piano_roll.shape[1])), \"constant\", constant_values=0)"
   ]
  },
  {
   "cell_type": "markdown",
   "metadata": {},
   "source": [
    "### find bass instrument"
   ]
  },
  {
   "cell_type": "code",
   "execution_count": 4,
   "metadata": {},
   "outputs": [],
   "source": [
    "def find_bass_instrument(midi_data: pretty_midi.PrettyMIDI):\n",
    "    for instr in midi_data.instruments:\n",
    "        instr: pretty_midi.Instrument\n",
    "        if instr.program == 32 and not instr.is_drum:\n",
    "            return instr\n",
    "    for instr in midi_data.instruments:\n",
    "        instr: pretty_midi.Instrument\n",
    "        if instr.program > 32 and instr.program <= 39 and not instr.is_drum:\n",
    "            return instr"
   ]
  },
  {
   "cell_type": "markdown",
   "metadata": {},
   "source": [
    "### get chroma except bass"
   ]
  },
  {
   "cell_type": "code",
   "execution_count": 5,
   "metadata": {},
   "outputs": [],
   "source": [
    "def get_chroma_except_bass(midi_data: pretty_midi.PrettyMIDI, bass_instr: pretty_midi.Instrument):\n",
    "    chroma = midi_data.get_chroma(CHROMA_FS)\n",
    "    bass_chroma = pad_piano_roll(chroma.shape[1], bass_instr.get_chroma(CHROMA_FS))\n",
    "    return chroma-bass_chroma"
   ]
  },
  {
   "cell_type": "markdown",
   "metadata": {},
   "source": [
    "### get beats"
   ]
  },
  {
   "cell_type": "code",
   "execution_count": 6,
   "metadata": {},
   "outputs": [],
   "source": [
    "def get_half_bar_beats_from_down_beats(down_beats, end_time):\n",
    "    half_bar_beats = []\n",
    "\n",
    "    # half bar beats in complete bar\n",
    "    for i in range(len(down_beats)-1):\n",
    "        half_bar_beats.append(down_beats[i])\n",
    "        half_bar_beats.append((down_beats[i]+down_beats[i+1])/2)\n",
    "\n",
    "    # half bar beats in incomplete bar\n",
    "    if half_bar_beats[-2]+(half_bar_beats[-2]-half_bar_beats[-3]) < end_time:\n",
    "        half_bar_beats[-1] = half_bar_beats[-2]+(half_bar_beats[-2]-half_bar_beats[-3])\n",
    "    else:\n",
    "        half_bar_beats.pop()\n",
    "    \n",
    "    # append midi end time\n",
    "    half_bar_beats.append(end_time)\n",
    "    return np.array(half_bar_beats)\n",
    "\n",
    "def get_sixteenth_beats_from_beats(beats, end_time):\n",
    "    sixteenth_beats = []\n",
    "    # sixteenth_beats in complete beat\n",
    "    for i in range(len(beats)-2):\n",
    "        for j in range(4):\n",
    "            sixteenth_beats.append((beats[i]*(4-j)+beats[i+1]*j)/4)\n",
    "\n",
    "    # sixteenth_beats in incomplete beat\n",
    "    for j in range(4):\n",
    "        temp = (beats[-2]-beats[-3])/4*j + beats[-2]\n",
    "        if temp > end_time:\n",
    "            break\n",
    "        sixteenth_beats.append(temp)\n",
    "    # append midi end time\n",
    "    sixteenth_beats.append(end_time)\n",
    "    return np.array(sixteenth_beats)\n",
    "    \n",
    "\n",
    "def get_four_scale_beats(midi_data: pretty_midi.PrettyMIDI):\n",
    "    end_time = midi_data.get_end_time()\n",
    "    beats = midi_data.get_beats()\n",
    "    down_beats = midi_data.get_downbeats()\n",
    "\n",
    "    # add midi end time to beats and down_beats\n",
    "    if down_beats[-1] < end_time:\n",
    "        down_beats = np.array(down_beats.tolist()+[end_time])\n",
    "    if beats[-1] < end_time:\n",
    "        beats = np.array(beats.tolist()+[end_time])\n",
    "\n",
    "    # obtain half_bar_beats and sixteenth_beats\n",
    "    half_bar_beats = get_half_bar_beats_from_down_beats(down_beats, end_time)\n",
    "    sixteenth_beats = get_sixteenth_beats_from_beats(beats, end_time)\n",
    "\n",
    "    return sixteenth_beats, beats, half_bar_beats, down_beats"
   ]
  },
  {
   "cell_type": "markdown",
   "metadata": {},
   "source": [
    "### get chroma feature"
   ]
  },
  {
   "cell_type": "code",
   "execution_count": 7,
   "metadata": {},
   "outputs": [],
   "source": [
    "def get_summed_chroma_from_time_squence(chroma, t_seq, ratio=1):\n",
    "    chroma_per_slot = []\n",
    "    for i in range(len(t_seq)-1):\n",
    "        left = int(t_seq[i]*CHROMA_FS)\n",
    "        right = int(t_seq[i+1]*CHROMA_FS)\n",
    "        chroma_per_slot.append(chroma[:, left:right].sum(axis=1)/127*ratio)\n",
    "    return chroma_per_slot\n",
    "\n",
    "def get_three_scale_chroma(chroma, beats, half_bar_beats, down_beats):\n",
    "    bar_beat_num_ratio = len(down_beats)/len(beats)\n",
    "    halfbar_beat_num_ratio = len(half_bar_beats)/len(beats)\n",
    "\n",
    "    chroma_per_beat = get_summed_chroma_from_time_squence(chroma, beats, 1)\n",
    "    chroma_per_halfbar = get_summed_chroma_from_time_squence(chroma, half_bar_beats, halfbar_beat_num_ratio)\n",
    "    chroma_per_bar = get_summed_chroma_from_time_squence(chroma, down_beats, bar_beat_num_ratio)\n",
    "\n",
    "    return chroma_per_beat,chroma_per_halfbar,chroma_per_bar"
   ]
  },
  {
   "cell_type": "markdown",
   "metadata": {},
   "source": [
    "### get number of simutaneously played instruments"
   ]
  },
  {
   "cell_type": "code",
   "execution_count": 8,
   "metadata": {},
   "outputs": [],
   "source": [
    "def get_drum_rolls(midi_data: pretty_midi.PrettyMIDI):\n",
    "    drum_rolls = []\n",
    "    for instr in midi_data.instruments:\n",
    "        instr: pretty_midi.Instrument\n",
    "        if not instr.is_drum:\n",
    "            continue\n",
    "        roll = np.array([0]*int(midi_data.get_end_time()*CHROMA_FS))\n",
    "        for note in instr.notes:\n",
    "            note: pretty_midi.Note\n",
    "            left = int(note.start*CHROMA_FS)\n",
    "            right = int(note.end*CHROMA_FS)\n",
    "            roll[left:right] = 1\n",
    "        drum_rolls.append(roll)\n",
    "    return np.array(drum_rolls)"
   ]
  },
  {
   "cell_type": "code",
   "execution_count": 9,
   "metadata": {},
   "outputs": [],
   "source": [
    "def get_number_of_simutaneously_played_instruments(piano_rolls, drum_rolls, left_t, right_t):\n",
    "    left = int(left_t*CHROMA_FS)\n",
    "    right = int(right_t*CHROMA_FS)\n",
    "    count = 0\n",
    "    for roll in piano_rolls:\n",
    "        if (roll[:, left:right]!=0).any():\n",
    "            count += 1\n",
    "    for d_roll in drum_rolls:\n",
    "        if (d_roll[left:right]!=0).any():\n",
    "            count += 1\n",
    "    return count\n",
    "\n",
    "def get_number_of_instruments_per_bar(piano_rolls, drum_rolls, down_beats):\n",
    "    instrument_per_bar = []\n",
    "    for i in range(len(down_beats)-1):\n",
    "        nospi = get_number_of_simutaneously_played_instruments(piano_rolls, drum_rolls, down_beats[i], down_beats[i+1])\n",
    "        instrument_per_bar.append(nospi)\n",
    "    return np.array(instrument_per_bar)"
   ]
  },
  {
   "cell_type": "markdown",
   "metadata": {},
   "source": [
    "### get is bass playing this bar"
   ]
  },
  {
   "cell_type": "code",
   "execution_count": 10,
   "metadata": {},
   "outputs": [],
   "source": [
    "def get_is_bass_playing_this_bar(bass_piano_roll, down_beats):\n",
    "    bass_chroma = np.sum(bass_piano_roll, axis=0)\n",
    "    is_bass_playing_this_bar = []\n",
    "    for i in range(len(down_beats)-1):\n",
    "        left = int(down_beats[i]*CHROMA_FS)\n",
    "        right = int(down_beats[i+1]*CHROMA_FS)\n",
    "        is_bass_playing_this_bar.append(int((bass_chroma[left:right]>0).any()))\n",
    "    return np.array(is_bass_playing_this_bar)"
   ]
  },
  {
   "cell_type": "markdown",
   "metadata": {},
   "source": [
    "### get bass 16th note"
   ]
  },
  {
   "cell_type": "code",
   "execution_count": 11,
   "metadata": {},
   "outputs": [],
   "source": [
    "def bass_midi_trim(bass_instr: pretty_midi.Instrument):\n",
    "    for i in range(1, len(bass_instr.notes)):\n",
    "        if bass_instr.notes[i].start < bass_instr.notes[i-1].end:\n",
    "            bass_instr.notes[i-1].end = bass_instr.notes[i].start\n",
    "    bass_instr.remove_invalid_notes()\n",
    "    return bass_instr\n",
    "\n",
    "def get_bass_onsets_frames(bass_track: pretty_midi.Instrument):\n",
    "    bass_onset_frames = np.zeros(int(bass_track.get_end_time()*CHROMA_FS))\n",
    "    onsets = np.ceil(bass_track.get_onsets()*CHROMA_FS).astype(int)\n",
    "    for frame in onsets:\n",
    "        bass_onset_frames[frame] = 1\n",
    "    return bass_onset_frames\n",
    "    \n",
    "def get_bass_note_in_16th_note(piano_roll: np.ndarray, bass_onsets_frames, left_t, right_t):\n",
    "    left = int(left_t*CHROMA_FS)\n",
    "    right = int(right_t*CHROMA_FS)\n",
    "    clip = piano_roll[:,left:right]\n",
    "    summed_clip = ((clip>0).astype(int)).sum(axis=1)\n",
    "    \n",
    "    ans = [0]*(BASS_UPPER_BOUND-BASS_LOWER_BOUND+2)\n",
    "    if summed_clip.sum() < (right-left+1)*BASS_REST_THRESH:\n",
    "        ans[-1] = 1\n",
    "        is_onset = 0\n",
    "        start_correction = 0\n",
    "        end_correction = 0\n",
    "        velocity = 0\n",
    "    else:\n",
    "        pitch = np.argmax(summed_clip)\n",
    "        ans[pitch] = 1\n",
    "        is_onset = bass_onsets_frames[left]\n",
    "        start_correction = (clip[pitch] != 0).argmax() / CHROMA_FS\n",
    "        end_correction = (clip[pitch,::-1] != 0).argmax() / CHROMA_FS\n",
    "        velocity = clip[pitch,int(start_correction*CHROMA_FS)]\n",
    "    return np.array(ans+[is_onset, start_correction, end_correction, velocity])"
   ]
  },
  {
   "cell_type": "markdown",
   "metadata": {},
   "source": [
    "### midi2input"
   ]
  },
  {
   "cell_type": "code",
   "execution_count": 14,
   "metadata": {},
   "outputs": [],
   "source": [
    "def midi_to_input(path):\n",
    "    midi_data = pretty_midi.PrettyMIDI(path)\n",
    "    max_roll_length = int(midi_data.get_end_time() * CHROMA_FS)\n",
    "    \n",
    "    ## data preparation\n",
    "    # bass part (ground truth)\n",
    "    bass_track = find_bass_instrument(midi_data)\n",
    "    assert bass_track != None, \"didn't find bass instruments in midi file\"\n",
    "    trimed_bass_track = bass_midi_trim(bass_track)\n",
    "    bass_piano_roll = trimed_bass_track.get_piano_roll(CHROMA_FS)[BASS_LOWER_BOUND:BASS_UPPER_BOUND+1]\n",
    "    bass_onsets_frames = get_bass_onsets_frames(trimed_bass_track)\n",
    "\n",
    "    # beat time point\n",
    "    sixteenth_beats, beats, half_bar_beats, down_beats = get_four_scale_beats(midi_data)\n",
    "\n",
    "    # chroma\n",
    "    chroma = midi_data.get_chroma(CHROMA_FS)\n",
    "    chroma_per_beat, chroma_per_halfbar, chroma_per_bar = get_three_scale_chroma(chroma, beats, half_bar_beats, down_beats)\n",
    "\n",
    "    # instruments num per bar\n",
    "    piano_rolls = [pad_piano_roll(max_roll_length, instr.get_piano_roll(CHROMA_FS)) for instr in midi_data.instruments]\n",
    "    drum_rolls = get_drum_rolls(midi_data)\n",
    "    instrument_per_bar = get_number_of_instruments_per_bar(piano_rolls, drum_rolls, down_beats)\n",
    "\n",
    "    # tempo_changes, time signature\n",
    "    tempo_changes_time, tempo_changes_tempo = midi_data.get_tempo_changes()\n",
    "    time_sig_changes = midi_data.time_signature_changes\n",
    "    if time_sig_changes == []:\n",
    "        time_sig_changes = [pretty_midi.TimeSignature(4, 4, 0)]\n",
    "\n",
    "    # is bass playing\n",
    "    is_bass_playing_this_bar = get_is_bass_playing_this_bar(bass_piano_roll, down_beats)\n",
    "    \n",
    "\n",
    "    ## run\n",
    "    # count variable\n",
    "    half_bar_count = 0\n",
    "    bar_count = 0\n",
    "    beat_count = 0\n",
    "    sixteenth_count = 0\n",
    "    tempo_change_count = 0\n",
    "    time_sig_changes_count = 0\n",
    "    tick_in_bar_count = 0\n",
    "\n",
    "    # ans\n",
    "    data_rows = []\n",
    "    bass_notes = []\n",
    "\n",
    "    for sixteenth_count in range(len(sixteenth_beats)-1):\n",
    "        # update bar, halfbar, beat count\n",
    "        cur_time = sixteenth_beats[sixteenth_count]\n",
    "        if beat_count+1 < len(beats) and cur_time >= beats[beat_count+1]:\n",
    "            beat_count += 1\n",
    "        if half_bar_count+1 < len(half_bar_beats) and cur_time >= half_bar_beats[half_bar_count+1]:\n",
    "            half_bar_count += 1\n",
    "        if bar_count+1 < len(down_beats) and cur_time >= down_beats[bar_count+1]:\n",
    "            bar_count += 1\n",
    "            tick_in_bar_count = 0\n",
    "        \n",
    "        # update tempo, time signature\n",
    "        if tempo_change_count+1 < len(tempo_changes_time) and cur_time >= tempo_changes_time[tempo_change_count+1]:\n",
    "            tempo_change_count += 1\n",
    "        if time_sig_changes_count+1 < len(time_sig_changes) and cur_time >= time_sig_changes[time_sig_changes_count+1].time:\n",
    "            time_sig_changes_count += 1\n",
    "\n",
    "        # input part\n",
    "        row = []\n",
    "        row.extend(chroma_per_beat[beat_count])\n",
    "        row.extend(chroma_per_halfbar[half_bar_count])\n",
    "        row.extend(chroma_per_bar[bar_count])\n",
    "        row.append(tempo_changes_tempo[tempo_change_count])\n",
    "        row.append(instrument_per_bar[bar_count])\n",
    "        row.append(is_bass_playing_this_bar[bar_count])\n",
    "        row.append(time_sig_changes[time_sig_changes_count].numerator)\n",
    "        row.append(time_sig_changes[time_sig_changes_count].denominator)\n",
    "        row.append(tick_in_bar_count)\n",
    "        row.append(bar_count)\n",
    "        data_rows.append(row)\n",
    "        tick_in_bar_count += 1\n",
    "\n",
    "        # ground truth part\n",
    "        bass_notes.append(get_bass_note_in_16th_note(bass_piano_roll, bass_onsets_frames, cur_time, sixteenth_beats[sixteenth_count+1]))\n",
    "    return np.array(data_rows), np.array(bass_notes)"
   ]
  },
  {
   "cell_type": "code",
   "execution_count": 15,
   "metadata": {},
   "outputs": [],
   "source": [
    "# input_rows, bass_notes = midi_to_input(\"input_midi/jazz_standards/4on6.mid\")\n",
    "input_rows, bass_notes = midi_to_input(\"../input_midi/transpose_augmentation/SpeakLow_d4.mid\")"
   ]
  }
 ],
 "metadata": {
  "kernelspec": {
   "display_name": "Python 3.10.9 64-bit",
   "language": "python",
   "name": "python3"
  },
  "language_info": {
   "codemirror_mode": {
    "name": "ipython",
    "version": 3
   },
   "file_extension": ".py",
   "mimetype": "text/x-python",
   "name": "python",
   "nbconvert_exporter": "python",
   "pygments_lexer": "ipython3",
   "version": "3.10.9"
  },
  "orig_nbformat": 4,
  "vscode": {
   "interpreter": {
    "hash": "aee8b7b246df8f9039afb4144a1f6fd8d2ca17a180786b69acc140d282b71a49"
   }
  }
 },
 "nbformat": 4,
 "nbformat_minor": 2
}
