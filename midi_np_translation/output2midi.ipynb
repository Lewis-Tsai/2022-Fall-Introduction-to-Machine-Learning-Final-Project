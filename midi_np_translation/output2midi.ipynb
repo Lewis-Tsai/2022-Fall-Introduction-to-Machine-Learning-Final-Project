{
 "cells": [
  {
   "cell_type": "code",
   "execution_count": 2,
   "metadata": {},
   "outputs": [],
   "source": [
    "import pretty_midi\n",
    "import numpy as np"
   ]
  },
  {
   "cell_type": "code",
   "execution_count": 3,
   "metadata": {},
   "outputs": [],
   "source": [
    "BASS_UPPER_BOUND = pretty_midi.note_name_to_number(\"Db5\")\n",
    "BASS_LOWER_BOUND = pretty_midi.note_name_to_number(\"B0\")\n",
    "REST = 51\n",
    "\n",
    "DEFAULT_VELOCITY = 100"
   ]
  },
  {
   "cell_type": "markdown",
   "metadata": {},
   "source": [
    "### functions from midi2input"
   ]
  },
  {
   "cell_type": "code",
   "execution_count": 4,
   "metadata": {},
   "outputs": [],
   "source": [
    "def find_bass_instrument(midi_data: pretty_midi.PrettyMIDI):\n",
    "    for instr in midi_data.instruments:\n",
    "        instr: pretty_midi.Instrument\n",
    "        if instr.program == 32 and not instr.is_drum:\n",
    "            return instr\n",
    "    for instr in midi_data.instruments:\n",
    "        instr: pretty_midi.Instrument\n",
    "        if instr.program > 32 and instr.program <= 39 and not instr.is_drum:\n",
    "            return instr\n",
    "\n",
    "def get_sixteenth_beats_from_beats(beats, end_time):\n",
    "    sixteenth_beats = []\n",
    "    # sixteenth_beats in complete beat\n",
    "    for i in range(len(beats)-2):\n",
    "        for j in range(4):\n",
    "            sixteenth_beats.append((beats[i]*(4-j)+beats[i+1]*j)/4)\n",
    "\n",
    "    # sixteenth_beats in incomplete beat\n",
    "    for j in range(4):\n",
    "        temp = (beats[-2]-beats[-3])/4*j + beats[-2]\n",
    "        if temp > end_time:\n",
    "            break\n",
    "        sixteenth_beats.append(temp)\n",
    "    # append midi end time\n",
    "    sixteenth_beats.append(end_time)\n",
    "    return np.array(sixteenth_beats)"
   ]
  },
  {
   "cell_type": "markdown",
   "metadata": {},
   "source": [
    "### output2midi"
   ]
  },
  {
   "cell_type": "code",
   "execution_count": 13,
   "metadata": {},
   "outputs": [],
   "source": [
    "def output_to_midi(bass_ndarr: np.ndarray, ref_midi_path=None, output_path=\"bass.mid\"):\n",
    "    # if there is a reference midi file, create new midi file by modifying it, otherwise use defalt setting\n",
    "    midi_data = pretty_midi.PrettyMIDI(ref_midi_path)\n",
    "    if ref_midi_path == None:\n",
    "        sixteenth_beats = np.array([i*0.125 for i in range(len(bass_ndarr)+1)])\n",
    "\n",
    "        bass_track = pretty_midi.Instrument(program=32)\n",
    "        bass_track.notes = []\n",
    "        midi_data.instruments.append(bass_track)\n",
    "    else:\n",
    "        beats = np.append(midi_data.get_beats(), midi_data.get_end_time())\n",
    "        sixteenth_beats = get_sixteenth_beats_from_beats(beats, midi_data.get_end_time())\n",
    "\n",
    "        bass_track = find_bass_instrument(midi_data)\n",
    "        bass_track.notes = []\n",
    "    \n",
    "    # appending notes according to bass_ndarr\n",
    "    note_start_time = 0\n",
    "    last_pitch = np.argmax(bass_ndarr[0])\n",
    "    for i in range(1, len(bass_ndarr)):\n",
    "        cur_pitch = np.argmax(bass_ndarr[i])\n",
    "        if last_pitch != cur_pitch:\n",
    "            if last_pitch != REST:\n",
    "                midi_number = last_pitch + BASS_LOWER_BOUND\n",
    "                new_note = pretty_midi.Note(DEFAULT_VELOCITY, midi_number, note_start_time, sixteenth_beats[i])\n",
    "                bass_track.notes.append(new_note)\n",
    "            note_start_time = sixteenth_beats[i]\n",
    "            last_pitch = cur_pitch\n",
    "\n",
    "    # flush the last note at the end of track\n",
    "    if last_pitch != REST:\n",
    "        midi_number = last_pitch+BASS_LOWER_BOUND\n",
    "        new_note = pretty_midi.Note(DEFAULT_VELOCITY, midi_number, note_start_time, sixteenth_beats[-1])\n",
    "        bass_track.notes.append(new_note)\n",
    "    \n",
    "    # write file\n",
    "    midi_data.write(output_path)"
   ]
  },
  {
   "cell_type": "code",
   "execution_count": 15,
   "metadata": {},
   "outputs": [],
   "source": [
    "# bass_test = np.load(\"../test_input/4on6.mid.ans.npy\")\n",
    "# input_test = np.load(\"../test_input/4on6.mid.npy\")\n",
    "# output_to_midi(bass_test, \"../input_midi/jazz_standards/4on6.mid\")\n",
    "# output_to_midi(bass_test)"
   ]
  }
 ],
 "metadata": {
  "kernelspec": {
   "display_name": "Python 3.10.8 64-bit",
   "language": "python",
   "name": "python3"
  },
  "language_info": {
   "codemirror_mode": {
    "name": "ipython",
    "version": 3
   },
   "file_extension": ".py",
   "mimetype": "text/x-python",
   "name": "python",
   "nbconvert_exporter": "python",
   "pygments_lexer": "ipython3",
   "version": "3.10.8"
  },
  "orig_nbformat": 4,
  "vscode": {
   "interpreter": {
    "hash": "7e1998ff7f8aa20ada591c520b972326324e5ea05489af9e422744c7c09f6dad"
   }
  }
 },
 "nbformat": 4,
 "nbformat_minor": 2
}
